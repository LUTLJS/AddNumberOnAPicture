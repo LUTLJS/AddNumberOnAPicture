{
 "cells": [
  {
   "cell_type": "code",
   "execution_count": 35,
   "metadata": {},
   "outputs": [],
   "source": [
    "from PIL import Image,ImageDraw,ImageFont\n",
    "\n",
    "def add_num(pic):\n",
    "    draw = ImageDraw.Draw(pic)\n",
    "    myFont = ImageFont.truetype('E:\\python_practice\\Add\\Marta_Italic.otf',size=50)\n",
    "    fillColor = \"#ffaaaa\"\n",
    "    width, height = pic.size\n",
    "    draw.text((width-i,j),'99',font=myFont,fill=fillColor)  \n",
    "    pic.save('E:/python_practice/Add/final006.jpeg','jpeg')\n",
    "    \n",
    "    \n",
    "\n",
    "if __name__ == '__main__':\n",
    "    pic = Image.open('E:\\python_practice\\Add\\ppp.jpg')\n",
    "    add_num(pic)\n",
    "    "
   ]
  },
  {
   "cell_type": "code",
   "execution_count": null,
   "metadata": {
    "collapsed": true
   },
   "outputs": [],
   "source": []
  },
  {
   "cell_type": "code",
   "execution_count": null,
   "metadata": {
    "collapsed": true
   },
   "outputs": [],
   "source": []
  }
 ],
 "metadata": {
  "kernelspec": {
   "display_name": "Python 3",
   "language": "python",
   "name": "python3"
  },
  "language_info": {
   "codemirror_mode": {
    "name": "ipython",
    "version": 3
   },
   "file_extension": ".py",
   "mimetype": "text/x-python",
   "name": "python",
   "nbconvert_exporter": "python",
   "pygments_lexer": "ipython3",
   "version": "3.6.4"
  }
 },
 "nbformat": 4,
 "nbformat_minor": 2
}
